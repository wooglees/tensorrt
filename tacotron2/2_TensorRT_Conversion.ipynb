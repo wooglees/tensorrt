{
 "cells": [
  {
   "cell_type": "markdown",
   "id": "3dc7566d",
   "metadata": {},
   "source": [
    "# Torch to ONNX"
   ]
  },
  {
   "cell_type": "markdown",
   "id": "482f735f",
   "metadata": {},
   "source": [
    "### Tacotron2"
   ]
  },
  {
   "cell_type": "code",
   "execution_count": null,
   "id": "17bfac2f",
   "metadata": {},
   "outputs": [],
   "source": [
    "# Convert from pt to ONNX\n",
    "!mkdir -p outputs\n",
    "!python ./exports/convert_tacotron2_to_onnx.py --tacotron2 checkpoints/nvidia_tacotron2pyt_fp16.pt --output outputs/ --fp16"
   ]
  },
  {
   "cell_type": "markdown",
   "id": "cb2b56fa",
   "metadata": {},
   "source": [
    "### WaveGlow"
   ]
  },
  {
   "cell_type": "code",
   "execution_count": null,
   "id": "1fc76527",
   "metadata": {},
   "outputs": [],
   "source": [
    "# Convert from pt to ONNX\n",
    "!python ./exports/convert_waveglow_to_onnx.py --waveglow checkpoints/nvidia_waveglow256pyt_fp16.pt --config-file waveglow/waveglow_config.json --wn-channels 256 --output outputs/ --fp16"
   ]
  },
  {
   "cell_type": "code",
   "execution_count": null,
   "id": "449dc3be",
   "metadata": {},
   "outputs": [],
   "source": [
    "# Check ONNX model\n",
    "!polygraphy inspect model outputs/waveglow.onnx"
   ]
  },
  {
   "cell_type": "markdown",
   "id": "d4e4b466",
   "metadata": {},
   "source": [
    "### ParallelWaveGan"
   ]
  },
  {
   "cell_type": "code",
   "execution_count": null,
   "id": "84bcb0e7",
   "metadata": {},
   "outputs": [],
   "source": [
    "# Get Generator\n",
    "import torch\n",
    "import yaml\n",
    "from parallel_wavegan.models import ParallelWaveGANGenerator\n",
    "\n",
    "pwg_ckpt=torch.load(\"checkpoints/ljspeech_parallel_wavegan.v1.long/checkpoint-1000000steps.pkl\")\n",
    "state_dict = pwg_ckpt['model']['generator']\n",
    "with open(\"checkpoints/ljspeech_parallel_wavegan.v1.long/config.yml\") as f:\n",
    "    cfg = yaml.safe_load(f)\n",
    "generator_cfg = cfg['generator_params']\n",
    "\n",
    "generator = ParallelWaveGANGenerator(**generator_cfg)\n",
    "generator.load_state_dict(state_dict)\n",
    "generator.cuda().eval()\n",
    "\n",
    "upsample_factor=256\n",
    "sample_c = torch.randn(1,80,380)\n",
    "sample_x = torch.randn(1, 1, sample_c.shape[2] * upsample_factor).cuda()\n",
    "sample_c = torch.nn.ReplicationPad1d(2)(sample_c).cuda()"
   ]
  },
  {
   "cell_type": "code",
   "execution_count": null,
   "id": "547eb527",
   "metadata": {},
   "outputs": [],
   "source": [
    "# Export to ONNX\n",
    "import os\n",
    "with torch.no_grad():\n",
    "    opset_version = 12\n",
    "    output_path = \"./outputs/parallelwavegan.onnx\"\n",
    "    torch.onnx.export(generator.half(), (sample_x.half(),sample_c.half()), output_path,\n",
    "                     opset_version = opset_version,\n",
    "                     do_constant_folding=True,\n",
    "                     input_names=[\"x\", \"c\"],\n",
    "                     output_names=[\"audio\"],\n",
    "                     dynamic_axes={\"x\":{2:\"x_seq\"},\n",
    "                                   \"c\":{2:\"c_seq\"},\n",
    "                                   \"audio\":{2:\"audio_seq\"}}\n",
    "                     )"
   ]
  },
  {
   "cell_type": "code",
   "execution_count": null,
   "id": "3c6b4468",
   "metadata": {},
   "outputs": [],
   "source": [
    "# Check ONNX model\n",
    "!polygraphy inspect model outputs/parallelwavegan.onnx"
   ]
  },
  {
   "cell_type": "code",
   "execution_count": null,
   "id": "5e9991a6",
   "metadata": {},
   "outputs": [],
   "source": [
    "# Do some constant-folding\n",
    "!polygraphy surgeon sanitize outputs/parallelwavegan.onnx --fold-constants -o outputs/parallelwavegan.onnx"
   ]
  },
  {
   "cell_type": "markdown",
   "id": "f21b5c6f",
   "metadata": {},
   "source": [
    "# ONNX to TRT"
   ]
  },
  {
   "cell_type": "markdown",
   "id": "e12540a9",
   "metadata": {},
   "source": [
    "### Tacotron2"
   ]
  },
  {
   "cell_type": "code",
   "execution_count": null,
   "id": "63988ce8",
   "metadata": {},
   "outputs": [],
   "source": [
    "# Convert from onnx to TRT\n",
    "!python ./exports/convert_onnx_to_trt.py --encoder outputs/encoder.onnx --decoder outputs/decoder_iter.onnx --postnet outputs/postnet.onnx -o outputs/ --fp16"
   ]
  },
  {
   "cell_type": "markdown",
   "id": "05e0eb57",
   "metadata": {},
   "source": [
    "### WaveGlow"
   ]
  },
  {
   "cell_type": "markdown",
   "id": "c899a49a",
   "metadata": {},
   "source": [
    "sigma value is fixed as 0.6 at infer_onnx function for onnx conversion"
   ]
  },
  {
   "cell_type": "code",
   "execution_count": null,
   "id": "9a06de5e",
   "metadata": {},
   "outputs": [],
   "source": [
    "# Convert from onnx to TRT\n",
    "!python ./exports/convert_onnx_to_trt.py --waveglow outputs/waveglow.onnx -o outputs/ --fp16"
   ]
  },
  {
   "cell_type": "markdown",
   "id": "916a8cec",
   "metadata": {},
   "source": [
    "### ParallelWaveGan"
   ]
  },
  {
   "cell_type": "code",
   "execution_count": null,
   "id": "7efcddd3",
   "metadata": {},
   "outputs": [],
   "source": [
    "# Convert from onnx to TRT\n",
    "!python ./exports/convert_onnx_to_trt.py  --parallelwavegan outputs/parallelwavegan.onnx -o outputs/ --fp16"
   ]
  }
 ],
 "metadata": {
  "kernelspec": {
   "display_name": "Python 3 (ipykernel)",
   "language": "python",
   "name": "python3"
  },
  "language_info": {
   "codemirror_mode": {
    "name": "ipython",
    "version": 3
   },
   "file_extension": ".py",
   "mimetype": "text/x-python",
   "name": "python",
   "nbconvert_exporter": "python",
   "pygments_lexer": "ipython3",
   "version": "3.8.13"
  }
 },
 "nbformat": 4,
 "nbformat_minor": 5
}
