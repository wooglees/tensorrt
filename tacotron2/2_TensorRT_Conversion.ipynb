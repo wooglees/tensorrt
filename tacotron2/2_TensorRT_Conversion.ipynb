{
 "cells": [
  {
   "cell_type": "markdown",
   "id": "5e71d6e5",
   "metadata": {},
   "source": [
    "# Torch to ONNX"
   ]
  },
  {
   "cell_type": "markdown",
   "id": "b7cca891",
   "metadata": {},
   "source": [
    "### Tacotron2"
   ]
  },
  {
   "cell_type": "code",
   "execution_count": 1,
   "id": "32160ef0",
   "metadata": {},
   "outputs": [
    {
     "name": "stdout",
     "output_type": "stream",
     "text": [
      "/opt/conda/lib/python3.8/site-packages/torch/onnx/_patch_torch.py:67: UserWarning: The shape inference of prim::PackPadded type is missing, so it may result in wrong shape inference for the exported graph. Please consider adding it in symbolic function. (Triggered internally at /opt/pytorch/pytorch/torch/csrc/jit/passes/onnx/shape_type_inference.cpp:1898.)\n",
      "  torch._C._jit_pass_onnx_node_shape_type_inference(\n",
      "/opt/conda/lib/python3.8/site-packages/torch/onnx/symbolic_opset9.py:3484: UserWarning: Exporting a model to ONNX with a batch_size other than 1, with a variable length with LSTM can cause an error when running the ONNX model with a different batch size. Make sure to save the model with a batch size of 1, or define the initial states (h0/c0) as inputs of the model. \n",
      "  warnings.warn(\n",
      "/opt/conda/lib/python3.8/site-packages/torch/onnx/_patch_torch.py:67: UserWarning: The shape inference of prim::PadPacked type is missing, so it may result in wrong shape inference for the exported graph. Please consider adding it in symbolic function. (Triggered internally at /opt/pytorch/pytorch/torch/csrc/jit/passes/onnx/shape_type_inference.cpp:1898.)\n",
      "  torch._C._jit_pass_onnx_node_shape_type_inference(\n",
      "/opt/conda/lib/python3.8/site-packages/torch/onnx/_patch_torch.py:67: UserWarning: The shape inference of prim::Constant type is missing, so it may result in wrong shape inference for the exported graph. Please consider adding it in symbolic function. (Triggered internally at /opt/pytorch/pytorch/torch/csrc/jit/passes/onnx/shape_type_inference.cpp:1898.)\n",
      "  torch._C._jit_pass_onnx_node_shape_type_inference(\n",
      "/opt/conda/lib/python3.8/site-packages/torch/onnx/symbolic_opset9.py:1055: UserWarning: This model contains a squeeze operation on dimension 0. If the model is intended to be used with dynamic input shapes, please use opset version 11 to export the model.\n",
      "  warnings.warn(\n",
      "/opt/conda/lib/python3.8/site-packages/torch/onnx/symbolic_opset9.py:1055: UserWarning: This model contains a squeeze operation on dimension 2. If the model is intended to be used with dynamic input shapes, please use opset version 11 to export the model.\n",
      "  warnings.warn(\n",
      "/opt/conda/lib/python3.8/site-packages/torch/onnx/symbolic_opset9.py:1055: UserWarning: This model contains a squeeze operation on dimension 1. If the model is intended to be used with dynamic input shapes, please use opset version 11 to export the model.\n",
      "  warnings.warn(\n",
      "/opt/conda/lib/python3.8/site-packages/torch/onnx/utils.py:641: UserWarning: The shape inference of prim::Constant type is missing, so it may result in wrong shape inference for the exported graph. Please consider adding it in symbolic function. (Triggered internally at /opt/pytorch/pytorch/torch/csrc/jit/passes/onnx/shape_type_inference.cpp:1898.)\n",
      "  _C._jit_pass_onnx_graph_shape_type_inference(\n",
      "/opt/conda/lib/python3.8/site-packages/torch/onnx/utils.py:1100: UserWarning: The shape inference of prim::Constant type is missing, so it may result in wrong shape inference for the exported graph. Please consider adding it in symbolic function. (Triggered internally at /opt/pytorch/pytorch/torch/csrc/jit/passes/onnx/shape_type_inference.cpp:1898.)\n",
      "  _C._jit_pass_onnx_graph_shape_type_inference(\n"
     ]
    }
   ],
   "source": [
    "# Convert from pt to ONNX\n",
    "!mkdir -p outputs\n",
    "!python ./exports/convert_tacotron2_to_onnx.py --tacotron2 checkpoints/nvidia_tacotron2pyt_fp16.pt --output outputs/ --fp16"
   ]
  },
  {
   "cell_type": "markdown",
   "id": "3a481c0d",
   "metadata": {},
   "source": [
    "### WaveGlow"
   ]
  },
  {
   "cell_type": "code",
   "execution_count": 2,
   "id": "3b3bd342",
   "metadata": {},
   "outputs": [
    {
     "name": "stdout",
     "output_type": "stream",
     "text": [
      "/workspace/tensorRT/pwavegan/./waveglow/model.py:308: TracerWarning: Converting a tensor to a Python integer might cause the trace to be incorrect. We can't record the data flow of Python values, so this value will be treated as a constant in the future. This means that the trace might not generalize to other inputs!\n",
      "  n_half = int(audio.size(1) // 2)\n"
     ]
    }
   ],
   "source": [
    "# Convert from pt to ONNX\n",
    "!python ./exports/convert_waveglow_to_onnx.py --waveglow checkpoints/nvidia_waveglow256pyt_fp16.pt --config-file waveglow/waveglow_config.json --wn-channels 256 --output outputs/ --fp16"
   ]
  },
  {
   "cell_type": "code",
   "execution_count": 3,
   "id": "10333fee",
   "metadata": {},
   "outputs": [
    {
     "name": "stdout",
     "output_type": "stream",
     "text": [
      "[I] Loading model: /workspace/tensorRT/pwavegan/outputs/waveglow.onnx\n",
      "[I] ==== ONNX Model ====\n",
      "    Name: torch_jit | Opset: 12\n",
      "    \n",
      "    ---- 2 Graph Input(s) ----\n",
      "    {mel [dtype=float16, shape=('batch_size', 80, 'mel_seq')],\n",
      "     z [dtype=float16, shape=('batch_size', 8, 'z_seq')]}\n",
      "    \n",
      "    ---- 1 Graph Output(s) ----\n",
      "    {audio [dtype=float16, shape=('batch_size', 'audio_seq')]}\n",
      "    \n",
      "    ---- 629 Initializer(s) ----\n",
      "    \n",
      "    ---- 3038 Node(s) ----\n"
     ]
    }
   ],
   "source": [
    "# Check ONNX model\n",
    "!polygraphy inspect model outputs/waveglow.onnx"
   ]
  },
  {
   "cell_type": "markdown",
   "id": "b151a9c7",
   "metadata": {},
   "source": [
    "### ParallelWaveGan"
   ]
  },
  {
   "cell_type": "code",
   "execution_count": 4,
   "id": "c925f404",
   "metadata": {},
   "outputs": [
    {
     "name": "stderr",
     "output_type": "stream",
     "text": [
      "/opt/conda/lib/python3.8/site-packages/tqdm/auto.py:22: TqdmWarning: IProgress not found. Please update jupyter and ipywidgets. See https://ipywidgets.readthedocs.io/en/stable/user_install.html\n",
      "  from .autonotebook import tqdm as notebook_tqdm\n"
     ]
    }
   ],
   "source": [
    "# Get Generator\n",
    "import torch\n",
    "import yaml\n",
    "from parallel_wavegan.models import ParallelWaveGANGenerator\n",
    "\n",
    "pwg_ckpt=torch.load(\"checkpoints/ljspeech_parallel_wavegan.v1.long/checkpoint-1000000steps.pkl\")\n",
    "state_dict = pwg_ckpt['model']['generator']\n",
    "with open(\"checkpoints/ljspeech_parallel_wavegan.v1.long/config.yml\") as f:\n",
    "    cfg = yaml.safe_load(f)\n",
    "generator_cfg = cfg['generator_params']\n",
    "\n",
    "generator = ParallelWaveGANGenerator(**generator_cfg)\n",
    "generator.load_state_dict(state_dict)\n",
    "generator.cuda().eval()\n",
    "\n",
    "upsample_factor=256\n",
    "sample_c = torch.randn(1,80,380)\n",
    "sample_x = torch.randn(1, 1, sample_c.shape[2] * upsample_factor).cuda()\n",
    "sample_c = torch.nn.ReplicationPad1d(2)(sample_c).cuda()"
   ]
  },
  {
   "cell_type": "code",
   "execution_count": 5,
   "id": "c91b97b0",
   "metadata": {},
   "outputs": [
    {
     "name": "stderr",
     "output_type": "stream",
     "text": [
      "/opt/conda/lib/python3.8/site-packages/parallel_wavegan/models/parallel_wavegan.py:159: TracerWarning: Converting a tensor to a Python boolean might cause the trace to be incorrect. We can't record the data flow of Python values, so this value will be treated as a constant in the future. This means that the trace might not generalize to other inputs!\n",
      "  assert c.size(-1) == x.size(-1)\n"
     ]
    }
   ],
   "source": [
    "# Export to ONNX\n",
    "import os\n",
    "with torch.no_grad():\n",
    "    opset_version = 12\n",
    "    output_path = \"./outputs/parallelwavegan.onnx\"\n",
    "    torch.onnx.export(generator.half(), (sample_x.half(),sample_c.half()), output_path,\n",
    "                     opset_version = opset_version,\n",
    "                     do_constant_folding=True,\n",
    "                     input_names=[\"x\", \"c\"],\n",
    "                     output_names=[\"audio\"],\n",
    "                     dynamic_axes={\"x\":{2:\"x_seq\"},\n",
    "                                   \"c\":{2:\"c_seq\"},\n",
    "                                   \"audio\":{2:\"audio_seq\"}}\n",
    "                     )"
   ]
  },
  {
   "cell_type": "code",
   "execution_count": 6,
   "id": "0af65a13",
   "metadata": {},
   "outputs": [
    {
     "name": "stdout",
     "output_type": "stream",
     "text": [
      "[I] Loading model: /workspace/tensorRT/pwavegan/outputs/parallelwavegan.onnx\n",
      "[I] ==== ONNX Model ====\n",
      "    Name: torch_jit | Opset: 12\n",
      "    \n",
      "    ---- 2 Graph Input(s) ----\n",
      "    {x [dtype=float16, shape=(1, 1, 'x_seq')],\n",
      "     c [dtype=float16, shape=(1, 80, 'c_seq')]}\n",
      "    \n",
      "    ---- 1 Graph Output(s) ----\n",
      "    {audio [dtype=float16, shape=(1, 1, 'audio_seq')]}\n",
      "    \n",
      "    ---- 191 Initializer(s) ----\n",
      "    \n",
      "    ---- 501 Node(s) ----\n"
     ]
    }
   ],
   "source": [
    "# Check ONNX model\n",
    "!polygraphy inspect model outputs/parallelwavegan.onnx"
   ]
  },
  {
   "cell_type": "code",
   "execution_count": 7,
   "id": "98eb4b21",
   "metadata": {},
   "outputs": [
    {
     "name": "stdout",
     "output_type": "stream",
     "text": [
      "[I] Loading model: /tmp/tmp_polygraphy_a0a80f8714047f4b38701f2b0e68bc9ea659a026286e28bc.onnx\n",
      "[I] Original Model:\n",
      "    Name: torch_jit | Opset: 12\n",
      "    \n",
      "    ---- 2 Graph Input(s) ----\n",
      "    {x [dtype=float16, shape=(1, 1, 'x_seq')],\n",
      "     c [dtype=float16, shape=(1, 80, 'c_seq')]}\n",
      "    \n",
      "    ---- 1 Graph Output(s) ----\n",
      "    {audio [dtype=float16, shape=(1, 1, 'audio_seq')]}\n",
      "    \n",
      "    ---- 191 Initializer(s) ----\n",
      "    \n",
      "    ---- 501 Node(s) ----\n",
      "    \n",
      "\u001b[38;5;14m[I] Folding Constants | Pass 1\u001b[0m\n",
      "\u001b[38;5;10m[I]     Total Nodes | Original:   501, After Folding:   434 |    67 Nodes Folded\u001b[0m\n",
      "\u001b[38;5;14m[I] Folding Constants | Pass 2\u001b[0m\n",
      "\u001b[38;5;10m[I]     Total Nodes | Original:   434, After Folding:   434 |     0 Nodes Folded\u001b[0m\n",
      "[I] Saving ONNX model to: outputs/parallelwavegan.onnx\n",
      "[I] New Model:\n",
      "    Name: torch_jit | Opset: 12\n",
      "    \n",
      "    ---- 2 Graph Input(s) ----\n",
      "    {x [dtype=float16, shape=(1, 1, 'x_seq')],\n",
      "     c [dtype=float16, shape=(1, 80, 'c_seq')]}\n",
      "    \n",
      "    ---- 1 Graph Output(s) ----\n",
      "    {audio [dtype=float16, shape=(1, 1, 'audio_seq')]}\n",
      "    \n",
      "    ---- 258 Initializer(s) ----\n",
      "    \n",
      "    ---- 434 Node(s) ----\n",
      "    \n"
     ]
    }
   ],
   "source": [
    "# Do some constant-folding\n",
    "!polygraphy surgeon sanitize outputs/parallelwavegan.onnx --fold-constants -o outputs/parallelwavegan.onnx"
   ]
  },
  {
   "cell_type": "markdown",
   "id": "af3ef1a7",
   "metadata": {},
   "source": [
    "# ONNX to TRT"
   ]
  },
  {
   "cell_type": "markdown",
   "id": "1dfe8b10",
   "metadata": {},
   "source": [
    "### Tacotron2"
   ]
  },
  {
   "cell_type": "code",
   "execution_count": 8,
   "id": "1d942aa6",
   "metadata": {},
   "outputs": [
    {
     "name": "stdout",
     "output_type": "stream",
     "text": [
      "Building Encoder ...\n",
      "[10/18/2022-00:14:35] [TRT] [W] onnx2trt_utils.cpp:369: Your ONNX model has been generated with INT64 weights, while TensorRT does not natively support INT64. Attempting to cast down to INT32.\n",
      "[10/18/2022-00:14:36] [TRT] [W] TensorRT was linked against cuDNN 8.4.1 but loaded cuDNN 8.4.0\n",
      "[10/18/2022-00:14:39] [TRT] [W] Weights [name=tacotron2.embedding.weight] had the following issues when converted to FP16:\n",
      "[10/18/2022-00:14:39] [TRT] [W]  - Subnormal FP16 values detected. \n",
      "[10/18/2022-00:14:39] [TRT] [W] If this is not the desired behavior, please modify the weights or retrain with regularization to reduce the magnitude of the weights.\n",
      "[10/18/2022-00:14:52] [TRT] [W] Weights [name=onnx::LSTM_300] had the following issues when converted to FP16:\n",
      "[10/18/2022-00:14:52] [TRT] [W]  - Subnormal FP16 values detected. \n",
      "[10/18/2022-00:14:52] [TRT] [W] If this is not the desired behavior, please modify the weights or retrain with regularization to reduce the magnitude of the weights.\n",
      "[10/18/2022-00:14:52] [TRT] [W] Weights [name=onnx::LSTM_301] had the following issues when converted to FP16:\n",
      "[10/18/2022-00:14:52] [TRT] [W]  - Subnormal FP16 values detected. \n",
      "[10/18/2022-00:14:52] [TRT] [W] If this is not the desired behavior, please modify the weights or retrain with regularization to reduce the magnitude of the weights.\n",
      "[10/18/2022-00:14:52] [TRT] [W] Weights [name=onnx::LSTM_299 + (Unnamed Layer* 79) [Shuffle]] had the following issues when converted to FP16:\n",
      "[10/18/2022-00:14:52] [TRT] [W]  - Subnormal FP16 values detected. \n",
      "[10/18/2022-00:14:52] [TRT] [W] If this is not the desired behavior, please modify the weights or retrain with regularization to reduce the magnitude of the weights.\n",
      "[10/18/2022-00:14:52] [TRT] [W] Weights [name=onnx::MatMul_304 + (Unnamed Layer* 221) [Shuffle]] had the following issues when converted to FP16:\n",
      "[10/18/2022-00:14:52] [TRT] [W]  - Subnormal FP16 values detected. \n",
      "[10/18/2022-00:14:52] [TRT] [W] If this is not the desired behavior, please modify the weights or retrain with regularization to reduce the magnitude of the weights.\n",
      "[10/18/2022-00:15:15] [TRT] [W] The getMaxBatchSize() function should not be used with an engine built from a network created with NetworkDefinitionCreationFlag::kEXPLICIT_BATCH flag. This function will always return 1.\n",
      "[10/18/2022-00:15:15] [TRT] [W] The getMaxBatchSize() function should not be used with an engine built from a network created with NetworkDefinitionCreationFlag::kEXPLICIT_BATCH flag. This function will always return 1.\n",
      "Building Decoder ...\n",
      "[10/18/2022-00:15:15] [TRT] [W] TensorRT was linked against cuDNN 8.4.1 but loaded cuDNN 8.4.0\n",
      "[10/18/2022-00:15:42] [TRT] [W] The getMaxBatchSize() function should not be used with an engine built from a network created with NetworkDefinitionCreationFlag::kEXPLICIT_BATCH flag. This function will always return 1.\n",
      "[10/18/2022-00:15:42] [TRT] [W] The getMaxBatchSize() function should not be used with an engine built from a network created with NetworkDefinitionCreationFlag::kEXPLICIT_BATCH flag. This function will always return 1.\n",
      "Building Postnet ...\n",
      "[10/18/2022-00:15:42] [TRT] [W] TensorRT was linked against cuDNN 8.4.1 but loaded cuDNN 8.4.0\n",
      "[10/18/2022-00:15:58] [TRT] [W] The getMaxBatchSize() function should not be used with an engine built from a network created with NetworkDefinitionCreationFlag::kEXPLICIT_BATCH flag. This function will always return 1.\n",
      "[10/18/2022-00:15:58] [TRT] [W] The getMaxBatchSize() function should not be used with an engine built from a network created with NetworkDefinitionCreationFlag::kEXPLICIT_BATCH flag. This function will always return 1.\n"
     ]
    }
   ],
   "source": [
    "# Convert from onnx to TRT\n",
    "!python ./exports/convert_onnx_to_trt.py --encoder outputs/encoder.onnx --decoder outputs/decoder_iter.onnx --postnet outputs/postnet.onnx -o outputs/ --fp16"
   ]
  },
  {
   "cell_type": "markdown",
   "id": "3bda8de4",
   "metadata": {},
   "source": [
    "### WaveGlow"
   ]
  },
  {
   "cell_type": "markdown",
   "id": "df96a0ab",
   "metadata": {},
   "source": [
    "sigma value is fixed as 0.6 at infer_onnx function for onnx conversion"
   ]
  },
  {
   "cell_type": "code",
   "execution_count": 9,
   "id": "538ebaa9",
   "metadata": {
    "collapsed": true,
    "jupyter": {
     "outputs_hidden": true
    }
   },
   "outputs": [
    {
     "name": "stdout",
     "output_type": "stream",
     "text": [
      "Building WaveGlow ...\n",
      "[10/18/2022-00:16:07] [TRT] [W] onnx2trt_utils.cpp:369: Your ONNX model has been generated with INT64 weights, while TensorRT does not natively support INT64. Attempting to cast down to INT32.\n",
      "[10/18/2022-00:16:07] [TRT] [W] onnx2trt_utils.cpp:395: One or more weights outside the range of INT32 was clamped\n",
      "[10/18/2022-00:16:07] [TRT] [W] onnx2trt_utils.cpp:395: One or more weights outside the range of INT32 was clamped\n",
      "[10/18/2022-00:16:07] [TRT] [W] onnx2trt_utils.cpp:395: One or more weights outside the range of INT32 was clamped\n",
      "[10/18/2022-00:16:07] [TRT] [W] onnx2trt_utils.cpp:395: One or more weights outside the range of INT32 was clamped\n",
      "[10/18/2022-00:16:07] [TRT] [W] onnx2trt_utils.cpp:395: One or more weights outside the range of INT32 was clamped\n",
      "[10/18/2022-00:16:07] [TRT] [W] onnx2trt_utils.cpp:395: One or more weights outside the range of INT32 was clamped\n",
      "[10/18/2022-00:16:07] [TRT] [W] onnx2trt_utils.cpp:395: One or more weights outside the range of INT32 was clamped\n",
      "[10/18/2022-00:16:07] [TRT] [W] onnx2trt_utils.cpp:395: One or more weights outside the range of INT32 was clamped\n",
      "[10/18/2022-00:16:08] [TRT] [W] onnx2trt_utils.cpp:395: One or more weights outside the range of INT32 was clamped\n",
      "[10/18/2022-00:16:08] [TRT] [W] onnx2trt_utils.cpp:395: One or more weights outside the range of INT32 was clamped\n",
      "[10/18/2022-00:16:08] [TRT] [W] onnx2trt_utils.cpp:395: One or more weights outside the range of INT32 was clamped\n",
      "[10/18/2022-00:16:08] [TRT] [W] onnx2trt_utils.cpp:395: One or more weights outside the range of INT32 was clamped\n",
      "[10/18/2022-00:16:08] [TRT] [W] onnx2trt_utils.cpp:395: One or more weights outside the range of INT32 was clamped\n",
      "[10/18/2022-00:16:08] [TRT] [W] onnx2trt_utils.cpp:395: One or more weights outside the range of INT32 was clamped\n",
      "[10/18/2022-00:16:08] [TRT] [W] onnx2trt_utils.cpp:395: One or more weights outside the range of INT32 was clamped\n",
      "[10/18/2022-00:16:08] [TRT] [W] onnx2trt_utils.cpp:395: One or more weights outside the range of INT32 was clamped\n",
      "[10/18/2022-00:16:08] [TRT] [W] onnx2trt_utils.cpp:395: One or more weights outside the range of INT32 was clamped\n",
      "[10/18/2022-00:16:08] [TRT] [W] onnx2trt_utils.cpp:395: One or more weights outside the range of INT32 was clamped\n",
      "[10/18/2022-00:16:08] [TRT] [W] onnx2trt_utils.cpp:395: One or more weights outside the range of INT32 was clamped\n",
      "[10/18/2022-00:16:08] [TRT] [W] onnx2trt_utils.cpp:395: One or more weights outside the range of INT32 was clamped\n",
      "[10/18/2022-00:16:09] [TRT] [W] onnx2trt_utils.cpp:395: One or more weights outside the range of INT32 was clamped\n",
      "[10/18/2022-00:16:09] [TRT] [W] onnx2trt_utils.cpp:395: One or more weights outside the range of INT32 was clamped\n",
      "[10/18/2022-00:16:09] [TRT] [W] onnx2trt_utils.cpp:395: One or more weights outside the range of INT32 was clamped\n",
      "[10/18/2022-00:16:09] [TRT] [W] onnx2trt_utils.cpp:395: One or more weights outside the range of INT32 was clamped\n",
      "[10/18/2022-00:16:09] [TRT] [W] onnx2trt_utils.cpp:395: One or more weights outside the range of INT32 was clamped\n",
      "[10/18/2022-00:16:09] [TRT] [W] onnx2trt_utils.cpp:395: One or more weights outside the range of INT32 was clamped\n",
      "[10/18/2022-00:16:09] [TRT] [W] onnx2trt_utils.cpp:395: One or more weights outside the range of INT32 was clamped\n",
      "[10/18/2022-00:16:09] [TRT] [W] onnx2trt_utils.cpp:395: One or more weights outside the range of INT32 was clamped\n",
      "[10/18/2022-00:16:09] [TRT] [W] onnx2trt_utils.cpp:395: One or more weights outside the range of INT32 was clamped\n",
      "[10/18/2022-00:16:10] [TRT] [W] onnx2trt_utils.cpp:395: One or more weights outside the range of INT32 was clamped\n",
      "[10/18/2022-00:16:10] [TRT] [W] onnx2trt_utils.cpp:395: One or more weights outside the range of INT32 was clamped\n",
      "[10/18/2022-00:16:10] [TRT] [W] onnx2trt_utils.cpp:395: One or more weights outside the range of INT32 was clamped\n",
      "[10/18/2022-00:16:10] [TRT] [W] onnx2trt_utils.cpp:395: One or more weights outside the range of INT32 was clamped\n",
      "[10/18/2022-00:16:11] [TRT] [W] onnx2trt_utils.cpp:395: One or more weights outside the range of INT32 was clamped\n",
      "[10/18/2022-00:16:11] [TRT] [W] onnx2trt_utils.cpp:395: One or more weights outside the range of INT32 was clamped\n",
      "[10/18/2022-00:16:11] [TRT] [W] onnx2trt_utils.cpp:395: One or more weights outside the range of INT32 was clamped\n",
      "[10/18/2022-00:16:11] [TRT] [W] onnx2trt_utils.cpp:395: One or more weights outside the range of INT32 was clamped\n",
      "[10/18/2022-00:16:11] [TRT] [W] onnx2trt_utils.cpp:395: One or more weights outside the range of INT32 was clamped\n",
      "[10/18/2022-00:16:11] [TRT] [W] onnx2trt_utils.cpp:395: One or more weights outside the range of INT32 was clamped\n",
      "[10/18/2022-00:16:12] [TRT] [W] onnx2trt_utils.cpp:395: One or more weights outside the range of INT32 was clamped\n",
      "[10/18/2022-00:16:12] [TRT] [W] onnx2trt_utils.cpp:395: One or more weights outside the range of INT32 was clamped\n",
      "[10/18/2022-00:16:12] [TRT] [W] onnx2trt_utils.cpp:395: One or more weights outside the range of INT32 was clamped\n",
      "[10/18/2022-00:16:12] [TRT] [W] onnx2trt_utils.cpp:395: One or more weights outside the range of INT32 was clamped\n",
      "[10/18/2022-00:16:12] [TRT] [W] onnx2trt_utils.cpp:395: One or more weights outside the range of INT32 was clamped\n",
      "[10/18/2022-00:16:12] [TRT] [W] onnx2trt_utils.cpp:395: One or more weights outside the range of INT32 was clamped\n",
      "[10/18/2022-00:16:13] [TRT] [W] onnx2trt_utils.cpp:395: One or more weights outside the range of INT32 was clamped\n",
      "[10/18/2022-00:16:13] [TRT] [W] onnx2trt_utils.cpp:395: One or more weights outside the range of INT32 was clamped\n",
      "[10/18/2022-00:16:14] [TRT] [W] onnx2trt_utils.cpp:395: One or more weights outside the range of INT32 was clamped\n",
      "[10/18/2022-00:16:14] [TRT] [W] onnx2trt_utils.cpp:395: One or more weights outside the range of INT32 was clamped\n",
      "[10/18/2022-00:16:14] [TRT] [W] onnx2trt_utils.cpp:395: One or more weights outside the range of INT32 was clamped\n",
      "[10/18/2022-00:16:14] [TRT] [W] onnx2trt_utils.cpp:395: One or more weights outside the range of INT32 was clamped\n",
      "[10/18/2022-00:16:14] [TRT] [W] onnx2trt_utils.cpp:395: One or more weights outside the range of INT32 was clamped\n",
      "[10/18/2022-00:16:15] [TRT] [W] onnx2trt_utils.cpp:395: One or more weights outside the range of INT32 was clamped\n",
      "[10/18/2022-00:16:15] [TRT] [W] onnx2trt_utils.cpp:395: One or more weights outside the range of INT32 was clamped\n",
      "[10/18/2022-00:16:15] [TRT] [W] onnx2trt_utils.cpp:395: One or more weights outside the range of INT32 was clamped\n",
      "[10/18/2022-00:16:15] [TRT] [W] onnx2trt_utils.cpp:395: One or more weights outside the range of INT32 was clamped\n",
      "[10/18/2022-00:16:16] [TRT] [W] onnx2trt_utils.cpp:395: One or more weights outside the range of INT32 was clamped\n",
      "[10/18/2022-00:16:16] [TRT] [W] onnx2trt_utils.cpp:395: One or more weights outside the range of INT32 was clamped\n",
      "[10/18/2022-00:16:16] [TRT] [W] onnx2trt_utils.cpp:395: One or more weights outside the range of INT32 was clamped\n",
      "[10/18/2022-00:16:16] [TRT] [W] onnx2trt_utils.cpp:395: One or more weights outside the range of INT32 was clamped\n",
      "[10/18/2022-00:16:18] [TRT] [W] onnx2trt_utils.cpp:395: One or more weights outside the range of INT32 was clamped\n",
      "[10/18/2022-00:16:18] [TRT] [W] onnx2trt_utils.cpp:395: One or more weights outside the range of INT32 was clamped\n",
      "[10/18/2022-00:16:18] [TRT] [W] onnx2trt_utils.cpp:395: One or more weights outside the range of INT32 was clamped\n",
      "[10/18/2022-00:16:18] [TRT] [W] onnx2trt_utils.cpp:395: One or more weights outside the range of INT32 was clamped\n",
      "[10/18/2022-00:16:19] [TRT] [W] onnx2trt_utils.cpp:395: One or more weights outside the range of INT32 was clamped\n",
      "[10/18/2022-00:16:19] [TRT] [W] onnx2trt_utils.cpp:395: One or more weights outside the range of INT32 was clamped\n",
      "[10/18/2022-00:16:19] [TRT] [W] onnx2trt_utils.cpp:395: One or more weights outside the range of INT32 was clamped\n",
      "[10/18/2022-00:16:20] [TRT] [W] onnx2trt_utils.cpp:395: One or more weights outside the range of INT32 was clamped\n",
      "[10/18/2022-00:16:20] [TRT] [W] onnx2trt_utils.cpp:395: One or more weights outside the range of INT32 was clamped\n",
      "[10/18/2022-00:16:20] [TRT] [W] onnx2trt_utils.cpp:395: One or more weights outside the range of INT32 was clamped\n",
      "[10/18/2022-00:16:21] [TRT] [W] onnx2trt_utils.cpp:395: One or more weights outside the range of INT32 was clamped\n",
      "[10/18/2022-00:16:21] [TRT] [W] onnx2trt_utils.cpp:395: One or more weights outside the range of INT32 was clamped\n",
      "[10/18/2022-00:16:21] [TRT] [W] onnx2trt_utils.cpp:395: One or more weights outside the range of INT32 was clamped\n",
      "[10/18/2022-00:16:22] [TRT] [W] onnx2trt_utils.cpp:395: One or more weights outside the range of INT32 was clamped\n",
      "[10/18/2022-00:16:22] [TRT] [W] onnx2trt_utils.cpp:395: One or more weights outside the range of INT32 was clamped\n",
      "[10/18/2022-00:16:23] [TRT] [W] onnx2trt_utils.cpp:395: One or more weights outside the range of INT32 was clamped\n",
      "[10/18/2022-00:16:23] [TRT] [W] onnx2trt_utils.cpp:395: One or more weights outside the range of INT32 was clamped\n",
      "[10/18/2022-00:16:24] [TRT] [W] onnx2trt_utils.cpp:395: One or more weights outside the range of INT32 was clamped\n",
      "[10/18/2022-00:16:24] [TRT] [W] onnx2trt_utils.cpp:395: One or more weights outside the range of INT32 was clamped\n",
      "[10/18/2022-00:16:25] [TRT] [W] onnx2trt_utils.cpp:395: One or more weights outside the range of INT32 was clamped\n",
      "[10/18/2022-00:16:25] [TRT] [W] onnx2trt_utils.cpp:395: One or more weights outside the range of INT32 was clamped\n",
      "[10/18/2022-00:16:25] [TRT] [W] onnx2trt_utils.cpp:395: One or more weights outside the range of INT32 was clamped\n",
      "[10/18/2022-00:16:26] [TRT] [W] onnx2trt_utils.cpp:395: One or more weights outside the range of INT32 was clamped\n",
      "[10/18/2022-00:16:26] [TRT] [W] onnx2trt_utils.cpp:395: One or more weights outside the range of INT32 was clamped\n",
      "[10/18/2022-00:16:26] [TRT] [W] onnx2trt_utils.cpp:395: One or more weights outside the range of INT32 was clamped\n",
      "[10/18/2022-00:16:27] [TRT] [W] onnx2trt_utils.cpp:395: One or more weights outside the range of INT32 was clamped\n",
      "[10/18/2022-00:16:27] [TRT] [W] onnx2trt_utils.cpp:395: One or more weights outside the range of INT32 was clamped\n",
      "[10/18/2022-00:16:28] [TRT] [W] onnx2trt_utils.cpp:395: One or more weights outside the range of INT32 was clamped\n",
      "[10/18/2022-00:16:28] [TRT] [W] onnx2trt_utils.cpp:395: One or more weights outside the range of INT32 was clamped\n",
      "[10/18/2022-00:16:29] [TRT] [W] onnx2trt_utils.cpp:395: One or more weights outside the range of INT32 was clamped\n",
      "[10/18/2022-00:16:30] [TRT] [W] onnx2trt_utils.cpp:395: One or more weights outside the range of INT32 was clamped\n",
      "[10/18/2022-00:16:30] [TRT] [W] onnx2trt_utils.cpp:395: One or more weights outside the range of INT32 was clamped\n",
      "[10/18/2022-00:16:31] [TRT] [W] onnx2trt_utils.cpp:395: One or more weights outside the range of INT32 was clamped\n",
      "[10/18/2022-00:16:31] [TRT] [W] onnx2trt_utils.cpp:395: One or more weights outside the range of INT32 was clamped\n",
      "[10/18/2022-00:16:32] [TRT] [W] onnx2trt_utils.cpp:395: One or more weights outside the range of INT32 was clamped\n",
      "[10/18/2022-00:16:32] [TRT] [W] onnx2trt_utils.cpp:395: One or more weights outside the range of INT32 was clamped\n",
      "[10/18/2022-00:16:33] [TRT] [W] onnx2trt_utils.cpp:395: One or more weights outside the range of INT32 was clamped\n",
      "[10/18/2022-00:16:33] [TRT] [W] onnx2trt_utils.cpp:395: One or more weights outside the range of INT32 was clamped\n",
      "[10/18/2022-00:16:34] [TRT] [W] onnx2trt_utils.cpp:395: One or more weights outside the range of INT32 was clamped\n",
      "[10/18/2022-00:16:34] [TRT] [W] onnx2trt_utils.cpp:395: One or more weights outside the range of INT32 was clamped\n",
      "[10/18/2022-00:16:35] [TRT] [W] onnx2trt_utils.cpp:395: One or more weights outside the range of INT32 was clamped\n",
      "[10/18/2022-00:16:35] [TRT] [W] onnx2trt_utils.cpp:395: One or more weights outside the range of INT32 was clamped\n",
      "[10/18/2022-00:16:36] [TRT] [W] onnx2trt_utils.cpp:395: One or more weights outside the range of INT32 was clamped\n",
      "[10/18/2022-00:16:36] [TRT] [W] onnx2trt_utils.cpp:395: One or more weights outside the range of INT32 was clamped\n",
      "[10/18/2022-00:16:37] [TRT] [W] onnx2trt_utils.cpp:395: One or more weights outside the range of INT32 was clamped\n",
      "[10/18/2022-00:16:39] [TRT] [W] onnx2trt_utils.cpp:395: One or more weights outside the range of INT32 was clamped\n",
      "[10/18/2022-00:16:39] [TRT] [W] onnx2trt_utils.cpp:395: One or more weights outside the range of INT32 was clamped\n",
      "[10/18/2022-00:16:40] [TRT] [W] onnx2trt_utils.cpp:395: One or more weights outside the range of INT32 was clamped\n",
      "[10/18/2022-00:16:40] [TRT] [W] onnx2trt_utils.cpp:395: One or more weights outside the range of INT32 was clamped\n",
      "[10/18/2022-00:16:41] [TRT] [W] onnx2trt_utils.cpp:395: One or more weights outside the range of INT32 was clamped\n",
      "[10/18/2022-00:16:41] [TRT] [W] onnx2trt_utils.cpp:395: One or more weights outside the range of INT32 was clamped\n",
      "[10/18/2022-00:16:42] [TRT] [W] onnx2trt_utils.cpp:395: One or more weights outside the range of INT32 was clamped\n",
      "[10/18/2022-00:16:43] [TRT] [W] onnx2trt_utils.cpp:395: One or more weights outside the range of INT32 was clamped\n",
      "[10/18/2022-00:16:43] [TRT] [W] onnx2trt_utils.cpp:395: One or more weights outside the range of INT32 was clamped\n",
      "[10/18/2022-00:16:44] [TRT] [W] onnx2trt_utils.cpp:395: One or more weights outside the range of INT32 was clamped\n",
      "[10/18/2022-00:16:45] [TRT] [W] onnx2trt_utils.cpp:395: One or more weights outside the range of INT32 was clamped\n",
      "[10/18/2022-00:16:45] [TRT] [W] onnx2trt_utils.cpp:395: One or more weights outside the range of INT32 was clamped\n",
      "[10/18/2022-00:16:46] [TRT] [W] onnx2trt_utils.cpp:395: One or more weights outside the range of INT32 was clamped\n",
      "[10/18/2022-00:16:46] [TRT] [W] onnx2trt_utils.cpp:395: One or more weights outside the range of INT32 was clamped\n",
      "[10/18/2022-00:16:47] [TRT] [W] onnx2trt_utils.cpp:395: One or more weights outside the range of INT32 was clamped\n",
      "[10/18/2022-00:16:49] [TRT] [W] onnx2trt_utils.cpp:395: One or more weights outside the range of INT32 was clamped\n",
      "[10/18/2022-00:16:50] [TRT] [W] onnx2trt_utils.cpp:395: One or more weights outside the range of INT32 was clamped\n",
      "[10/18/2022-00:16:51] [TRT] [W] onnx2trt_utils.cpp:395: One or more weights outside the range of INT32 was clamped\n",
      "[10/18/2022-00:16:51] [TRT] [W] onnx2trt_utils.cpp:395: One or more weights outside the range of INT32 was clamped\n",
      "[10/18/2022-00:16:52] [TRT] [W] onnx2trt_utils.cpp:395: One or more weights outside the range of INT32 was clamped\n",
      "[10/18/2022-00:16:53] [TRT] [W] onnx2trt_utils.cpp:395: One or more weights outside the range of INT32 was clamped\n",
      "[10/18/2022-00:16:53] [TRT] [W] onnx2trt_utils.cpp:395: One or more weights outside the range of INT32 was clamped\n",
      "[10/18/2022-00:16:54] [TRT] [W] onnx2trt_utils.cpp:395: One or more weights outside the range of INT32 was clamped\n",
      "[10/18/2022-00:16:55] [TRT] [W] onnx2trt_utils.cpp:395: One or more weights outside the range of INT32 was clamped\n",
      "[10/18/2022-00:16:56] [TRT] [W] onnx2trt_utils.cpp:395: One or more weights outside the range of INT32 was clamped\n",
      "[10/18/2022-00:16:56] [TRT] [W] onnx2trt_utils.cpp:395: One or more weights outside the range of INT32 was clamped\n",
      "[10/18/2022-00:16:57] [TRT] [W] onnx2trt_utils.cpp:395: One or more weights outside the range of INT32 was clamped\n",
      "[10/18/2022-00:16:58] [TRT] [W] onnx2trt_utils.cpp:395: One or more weights outside the range of INT32 was clamped\n",
      "[10/18/2022-00:16:59] [TRT] [W] onnx2trt_utils.cpp:395: One or more weights outside the range of INT32 was clamped\n",
      "[10/18/2022-00:16:59] [TRT] [W] onnx2trt_utils.cpp:395: One or more weights outside the range of INT32 was clamped\n",
      "[10/18/2022-00:17:02] [TRT] [W] onnx2trt_utils.cpp:395: One or more weights outside the range of INT32 was clamped\n",
      "[10/18/2022-00:17:03] [TRT] [W] onnx2trt_utils.cpp:395: One or more weights outside the range of INT32 was clamped\n",
      "[10/18/2022-00:17:04] [TRT] [W] onnx2trt_utils.cpp:395: One or more weights outside the range of INT32 was clamped\n",
      "[10/18/2022-00:17:04] [TRT] [W] onnx2trt_utils.cpp:395: One or more weights outside the range of INT32 was clamped\n",
      "[10/18/2022-00:17:05] [TRT] [W] onnx2trt_utils.cpp:395: One or more weights outside the range of INT32 was clamped\n",
      "[10/18/2022-00:17:06] [TRT] [W] onnx2trt_utils.cpp:395: One or more weights outside the range of INT32 was clamped\n",
      "[10/18/2022-00:17:07] [TRT] [W] onnx2trt_utils.cpp:395: One or more weights outside the range of INT32 was clamped\n",
      "[10/18/2022-00:17:08] [TRT] [W] onnx2trt_utils.cpp:395: One or more weights outside the range of INT32 was clamped\n",
      "[10/18/2022-00:17:09] [TRT] [W] onnx2trt_utils.cpp:395: One or more weights outside the range of INT32 was clamped\n",
      "[10/18/2022-00:17:09] [TRT] [W] onnx2trt_utils.cpp:395: One or more weights outside the range of INT32 was clamped\n",
      "[10/18/2022-00:17:10] [TRT] [W] onnx2trt_utils.cpp:395: One or more weights outside the range of INT32 was clamped\n",
      "[10/18/2022-00:17:11] [TRT] [W] onnx2trt_utils.cpp:395: One or more weights outside the range of INT32 was clamped\n",
      "[10/18/2022-00:17:12] [TRT] [W] onnx2trt_utils.cpp:395: One or more weights outside the range of INT32 was clamped\n",
      "[10/18/2022-00:17:13] [TRT] [W] onnx2trt_utils.cpp:395: One or more weights outside the range of INT32 was clamped\n",
      "[10/18/2022-00:17:14] [TRT] [W] onnx2trt_utils.cpp:395: One or more weights outside the range of INT32 was clamped\n",
      "[10/18/2022-00:17:17] [TRT] [W] onnx2trt_utils.cpp:395: One or more weights outside the range of INT32 was clamped\n",
      "[10/18/2022-00:17:18] [TRT] [W] onnx2trt_utils.cpp:395: One or more weights outside the range of INT32 was clamped\n",
      "[10/18/2022-00:17:19] [TRT] [W] onnx2trt_utils.cpp:395: One or more weights outside the range of INT32 was clamped\n",
      "[10/18/2022-00:17:20] [TRT] [W] onnx2trt_utils.cpp:395: One or more weights outside the range of INT32 was clamped\n",
      "[10/18/2022-00:17:21] [TRT] [W] onnx2trt_utils.cpp:395: One or more weights outside the range of INT32 was clamped\n",
      "[10/18/2022-00:17:22] [TRT] [W] onnx2trt_utils.cpp:395: One or more weights outside the range of INT32 was clamped\n",
      "[10/18/2022-00:17:23] [TRT] [W] onnx2trt_utils.cpp:395: One or more weights outside the range of INT32 was clamped\n",
      "[10/18/2022-00:17:24] [TRT] [W] onnx2trt_utils.cpp:395: One or more weights outside the range of INT32 was clamped\n",
      "[10/18/2022-00:17:25] [TRT] [W] onnx2trt_utils.cpp:395: One or more weights outside the range of INT32 was clamped\n",
      "[10/18/2022-00:17:26] [TRT] [W] onnx2trt_utils.cpp:395: One or more weights outside the range of INT32 was clamped\n",
      "[10/18/2022-00:17:27] [TRT] [W] onnx2trt_utils.cpp:395: One or more weights outside the range of INT32 was clamped\n",
      "[10/18/2022-00:17:28] [TRT] [W] onnx2trt_utils.cpp:395: One or more weights outside the range of INT32 was clamped\n",
      "[10/18/2022-00:17:29] [TRT] [W] onnx2trt_utils.cpp:395: One or more weights outside the range of INT32 was clamped\n",
      "[10/18/2022-00:17:30] [TRT] [W] onnx2trt_utils.cpp:395: One or more weights outside the range of INT32 was clamped\n",
      "[10/18/2022-00:17:31] [TRT] [W] onnx2trt_utils.cpp:395: One or more weights outside the range of INT32 was clamped\n",
      "[10/18/2022-00:17:34] [TRT] [W] onnx2trt_utils.cpp:395: One or more weights outside the range of INT32 was clamped\n",
      "[10/18/2022-00:17:35] [TRT] [W] onnx2trt_utils.cpp:395: One or more weights outside the range of INT32 was clamped\n",
      "[10/18/2022-00:17:37] [TRT] [W] onnx2trt_utils.cpp:395: One or more weights outside the range of INT32 was clamped\n",
      "[10/18/2022-00:17:38] [TRT] [W] onnx2trt_utils.cpp:395: One or more weights outside the range of INT32 was clamped\n",
      "[10/18/2022-00:17:39] [TRT] [W] onnx2trt_utils.cpp:395: One or more weights outside the range of INT32 was clamped\n",
      "[10/18/2022-00:17:40] [TRT] [W] onnx2trt_utils.cpp:395: One or more weights outside the range of INT32 was clamped\n",
      "[10/18/2022-00:17:41] [TRT] [W] onnx2trt_utils.cpp:395: One or more weights outside the range of INT32 was clamped\n",
      "[10/18/2022-00:17:42] [TRT] [W] onnx2trt_utils.cpp:395: One or more weights outside the range of INT32 was clamped\n",
      "[10/18/2022-00:17:43] [TRT] [W] onnx2trt_utils.cpp:395: One or more weights outside the range of INT32 was clamped\n",
      "[10/18/2022-00:17:44] [TRT] [W] onnx2trt_utils.cpp:395: One or more weights outside the range of INT32 was clamped\n",
      "[10/18/2022-00:17:46] [TRT] [W] onnx2trt_utils.cpp:395: One or more weights outside the range of INT32 was clamped\n",
      "[10/18/2022-00:17:47] [TRT] [W] onnx2trt_utils.cpp:395: One or more weights outside the range of INT32 was clamped\n",
      "[10/18/2022-00:17:48] [TRT] [W] onnx2trt_utils.cpp:395: One or more weights outside the range of INT32 was clamped\n",
      "[10/18/2022-00:17:49] [TRT] [W] onnx2trt_utils.cpp:395: One or more weights outside the range of INT32 was clamped\n",
      "[10/18/2022-00:17:50] [TRT] [W] onnx2trt_utils.cpp:395: One or more weights outside the range of INT32 was clamped\n",
      "[10/18/2022-00:18:33] [TRT] [W] TensorRT was linked against cuDNN 8.4.1 but loaded cuDNN 8.4.0\n",
      "[10/18/2022-00:23:02] [TRT] [W] TensorRT was linked against cuDNN 8.4.1 but loaded cuDNN 8.4.0\n",
      "[10/18/2022-00:23:02] [TRT] [W] The getMaxBatchSize() function should not be used with an engine built from a network created with NetworkDefinitionCreationFlag::kEXPLICIT_BATCH flag. This function will always return 1.\n",
      "[10/18/2022-00:23:03] [TRT] [W] The getMaxBatchSize() function should not be used with an engine built from a network created with NetworkDefinitionCreationFlag::kEXPLICIT_BATCH flag. This function will always return 1.\n"
     ]
    }
   ],
   "source": [
    "# Convert from onnx to TRT\n",
    "!python ./exports/convert_onnx_to_trt.py --waveglow outputs/waveglow.onnx -o outputs/ --fp16"
   ]
  },
  {
   "cell_type": "markdown",
   "id": "a62a2286",
   "metadata": {},
   "source": [
    "### ParallelWaveGan"
   ]
  },
  {
   "cell_type": "code",
   "execution_count": 11,
   "id": "5b605af5",
   "metadata": {},
   "outputs": [
    {
     "name": "stdout",
     "output_type": "stream",
     "text": [
      "Building ParallelWaveGan ...\n",
      "[10/18/2022-01:52:23] [TRT] [W] onnx2trt_utils.cpp:369: Your ONNX model has been generated with INT64 weights, while TensorRT does not natively support INT64. Attempting to cast down to INT32.\n",
      "[10/18/2022-01:52:39] [TRT] [W] TensorRT was linked against cuDNN 8.4.1 but loaded cuDNN 8.4.0\n",
      "[10/18/2022-01:55:35] [TRT] [W] Min value of this profile is not valid\n",
      "[10/18/2022-01:55:37] [TRT] [W] TensorRT was linked against cuDNN 8.4.1 but loaded cuDNN 8.4.0\n",
      "[10/18/2022-01:55:37] [TRT] [W] The getMaxBatchSize() function should not be used with an engine built from a network created with NetworkDefinitionCreationFlag::kEXPLICIT_BATCH flag. This function will always return 1.\n",
      "[10/18/2022-01:55:37] [TRT] [W] The getMaxBatchSize() function should not be used with an engine built from a network created with NetworkDefinitionCreationFlag::kEXPLICIT_BATCH flag. This function will always return 1.\n"
     ]
    }
   ],
   "source": [
    "# Convert from onnx to TRT\n",
    "!python ./exports/convert_onnx_to_trt.py  --parallelwavegan outputs/parallelwavegan.onnx -o outputs/ --fp16"
   ]
  },
  {
   "cell_type": "code",
   "execution_count": null,
   "id": "85e63816",
   "metadata": {},
   "outputs": [],
   "source": []
  }
 ],
 "metadata": {
  "kernelspec": {
   "display_name": "Python 3 (ipykernel)",
   "language": "python",
   "name": "python3"
  },
  "language_info": {
   "codemirror_mode": {
    "name": "ipython",
    "version": 3
   },
   "file_extension": ".py",
   "mimetype": "text/x-python",
   "name": "python",
   "nbconvert_exporter": "python",
   "pygments_lexer": "ipython3",
   "version": "3.8.13"
  }
 },
 "nbformat": 4,
 "nbformat_minor": 5
}
